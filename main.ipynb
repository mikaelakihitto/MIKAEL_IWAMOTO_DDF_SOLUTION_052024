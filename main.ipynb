{
 "cells": [
  {
   "cell_type": "code",
   "execution_count": 9,
   "metadata": {},
   "outputs": [
    {
     "name": "stderr",
     "output_type": "stream",
     "text": [
      "/Users/mackbookair/Documents/DadosFera/Desafio01/.venv/lib/python3.11/site-packages/datasets/load.py:1486: FutureWarning: The repository for spacemanidol/product-search-corpus contains custom code which must be executed to correctly load the dataset. You can inspect the repository content at https://hf.co/datasets/spacemanidol/product-search-corpus\n",
      "You can avoid this message in future by passing the argument `trust_remote_code=True`.\n",
      "Passing `trust_remote_code=True` will be mandatory to load this dataset from the next major release of `datasets`.\n",
      "  warnings.warn(\n"
     ]
    },
    {
     "name": "stdout",
     "output_type": "stream",
     "text": [
      "<class 'str'>\n"
     ]
    }
   ],
   "source": [
    "from datasets import load_dataset\n",
    "from transformers import AutoTokenizer\n",
    "from sklearn.feature_extraction.text import TfidfVectorizer\n",
    "\n",
    "\n",
    "#tokenizer = AutoTokenizer.from_pretrained('bert-base-cased')\n",
    "dataset = load_dataset('spacemanidol/product-search-corpus',split=\"train\")\n",
    "\n",
    "print(type(dataset[0]['text']))"
   ]
  },
  {
   "cell_type": "code",
   "execution_count": 21,
   "metadata": {},
   "outputs": [
    {
     "name": "stdout",
     "output_type": "stream",
     "text": [
      "Título pré-processado: ['fyy', 'leather', 'case', 'mirror', 'samsung', 'galaxy', 's8', 'plus', 'leather', 'wallet', 'flip', 'folio', 'case', 'mirror', 'wrist', 'strap', 'samsung', 'galaxy', 's8', 'plus', 'black']\n",
      "Descrição pré-processada: ['premium', 'pu', 'leather', 'top', 'quality', 'made', 'premium', 'pu', 'leather', 'receiver', 'design', 'accurate', 'cut', 'receiver', 'convenient', 'answer', 'phone', 'without', 'open', 'case', 'hand', 'strap', 'make', 'easy', 'carry', 'around', 'rfid', 'technique', 'radio', 'frequency', 'identification', 'technology', 'radio', 'signal', 'identify', 'specific', 'target', 'read', 'copy', 'electronic', 'data', 'credit', 'card', 'debit', 'card', 'id', 'card', 'set', 'rfid', 'chip', 'rfid', 'reader', 'easily', 'read', 'card', 'information', 'within', '10', 'foot', '3m', 'without', 'touching', 'case', 'designed', 'protect', 'card', 'information', 'stealing', 'blocking', 'material', 'rfid', 'shielding', 'technology', '100', 'handmade', 'perfect', 'craftsmanship', 'reinforced', 'stitching', 'make', 'even', 'durable', 'sleek', 'practical', 'elegant', 'variety', 'dashing', 'color', 'multiple', 'function', 'card', 'slot', 'designed', 'put', 'photo', 'debit', 'card', 'credit', 'card', 'id', 'card', 'go', 'unique', 'design', 'cosmetic', 'mirror', 'inside', 'made', 'makeup', 'beauty', 'perfect', 'viewing', 'angle', 'kickstand', 'function', 'convenient', 'movie', 'watching', 'video', 'chatting', 'space', 'amplification', 'convenient', 'unlock', 'kickstand', 'function', 'convenient', 'movie', 'watching', 'video', 'chatting']\n"
     ]
    },
    {
     "name": "stderr",
     "output_type": "stream",
     "text": [
      "[nltk_data] Downloading package punkt to\n",
      "[nltk_data]     /Users/mackbookair/nltk_data...\n",
      "[nltk_data]   Package punkt is already up-to-date!\n",
      "[nltk_data] Downloading package stopwords to\n",
      "[nltk_data]     /Users/mackbookair/nltk_data...\n",
      "[nltk_data]   Package stopwords is already up-to-date!\n",
      "[nltk_data] Downloading package wordnet to\n",
      "[nltk_data]     /Users/mackbookair/nltk_data...\n",
      "[nltk_data]   Package wordnet is already up-to-date!\n"
     ]
    }
   ],
   "source": [
    "import nltk\n",
    "from nltk.tokenize import word_tokenize\n",
    "from nltk.corpus import stopwords\n",
    "from nltk.stem import WordNetLemmatizer\n",
    "from nltk.tokenize import RegexpTokenizer\n",
    "\n",
    "nltk.download('punkt')\n",
    "nltk.download('stopwords')\n",
    "nltk.download('wordnet')\n",
    "\n",
    "# Função para pré-processar o texto\n",
    "def preprocess_text(text):\n",
    "    # Tokenização\n",
    "    tokenizer = RegexpTokenizer(r'\\w+')\n",
    "    tokens = tokenizer.tokenize(text.lower())  # Converte para minúsculas e tokeniza\n",
    "    \n",
    "    # Remoção de stopwords\n",
    "    stop_words = set(stopwords.words('english'))\n",
    "    filtered_tokens = [word for word in tokens if word not in stop_words]\n",
    "    \n",
    "    # Lemmatização\n",
    "    lemmatizer = WordNetLemmatizer()\n",
    "    lemmatized_tokens = [lemmatizer.lemmatize(word) for word in filtered_tokens]\n",
    "    \n",
    "    return lemmatized_tokens\n",
    "\n",
    "# Exemplo de uso\n",
    "title = \"FYY Leather Case with Mirror for Samsung Galaxy S8 Plus, Leather Wallet Flip Folio Case with Mirror and Wrist Strap for Samsung Galaxy S8 Plus Black\"\n",
    "description = \"Premium PU Leather Top quality. Made with Premium PU Leather. Receiver design. Accurate cut-out for receiver. Convenient to Answer the phone without open the case. Hand strap makes it easy to carry around. RFID Technique: Radio Frequency Identification technology, through radio signals to identify specific targets and to read and copy electronic data. Most Credit Cards, Debit Cards, ID Cards are set-in the RFID chip, the RFID reader can easily read the cards information within 10 feet(about 3m) without touching them. This case is designed to protect your cards information from stealing with blocking material of RFID shielding technology. 100% Handmade. Perfect craftsmanship and reinforced stitching make it even more durable. Sleek, practical, and elegant with a variety of dashing colors. Multiple Functions Card slots are designed for you to put your photo, debit card, credit card, or ID card while on the go. Unique design. Cosmetic Mirror inside made for your makeup and beauty. Perfect Viewing Angle. Kickstand function is convenient for movie-watching or video-chatting. Space amplification, convenient to unlock. Kickstand function is convenient for movie-watching or video-chatting.\"\n",
    "\n",
    "# Pré-processamento do título e descrição\n",
    "processed_title = preprocess_text(title)\n",
    "processed_description = preprocess_text(description)\n",
    "\n",
    "print(\"Título pré-processado:\", processed_title)\n",
    "print(\"Descrição pré-processada:\", processed_description)\n"
   ]
  }
 ],
 "metadata": {
  "kernelspec": {
   "display_name": ".venv",
   "language": "python",
   "name": "python3"
  },
  "language_info": {
   "codemirror_mode": {
    "name": "ipython",
    "version": 3
   },
   "file_extension": ".py",
   "mimetype": "text/x-python",
   "name": "python",
   "nbconvert_exporter": "python",
   "pygments_lexer": "ipython3",
   "version": "3.11.3"
  }
 },
 "nbformat": 4,
 "nbformat_minor": 2
}
